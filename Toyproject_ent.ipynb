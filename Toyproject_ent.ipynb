{
 "cells": [
  {
   "cell_type": "markdown",
   "id": "a8c70685",
   "metadata": {
    "id": "a8c70685"
   },
   "source": [
    "# 토이 프로젝트 크롤링을 위한 모듈"
   ]
  },
  {
   "cell_type": "code",
   "execution_count": null,
   "id": "8407cbb1",
   "metadata": {
    "id": "8407cbb1"
   },
   "outputs": [],
   "source": [
    "import time\n",
    "import urllib\n",
    "from bs4 import BeautifulSoup\n",
    "from selenium import webdriver\n",
    "from selenium.webdriver.common.keys import Keys\n",
    "import numpy as np\n",
    "import pandas as pd"
   ]
  },
  {
   "cell_type": "markdown",
   "id": "d3787d35",
   "metadata": {
    "id": "d3787d35"
   },
   "source": [
    "# 키노라이츠 크롤링"
   ]
  },
  {
   "cell_type": "code",
   "execution_count": null,
   "id": "02dec9ba",
   "metadata": {
    "id": "02dec9ba"
   },
   "outputs": [],
   "source": [
    "driver = webdriver.Chrome('./chromedriver_win32/chromedriver.exe')\n",
    "url = 'https://m.kinolights.com/'\n",
    "driver.get(url)\n",
    "\n",
    "driver.find_element_by_xpath('/html/body/div/div/div/header/nav/a[2]').click()\n",
    "time.sleep(3)\n",
    "driver.find_element_by_css_selector('section.theme-list-section > ul > li:nth-child(6) > a').send_keys('\\n')\n",
    "time.sleep(5)\n",
    "\n",
    "netflix_name = []\n",
    "tving_name = []\n",
    "tot_list = []\n",
    "def click_contents(c):  \n",
    "        if c == 'Netflix':\n",
    "            driver.find_element_by_xpath('//*[@id=\"triggerMenu\"]/div/div[1]/div/div/button[1]/i').click() \n",
    "            time.sleep(2)\n",
    "            driver.find_element_by_xpath('//*[@id=\"listArea\"]/div[1]/button/i').click()\n",
    "            time.sleep(2)\n",
    "            driver.find_element_by_xpath('//*[@id=\"modalContentBody\"]/div/div[4]/button').click()\n",
    "            \n",
    "            html = BeautifulSoup(driver.page_source, 'html.parser')\n",
    "            for name1 in html.select('div > div.title'):\n",
    "                netflix_name.append(name1.text)\n",
    "                tot_list.append(name1.text)\n",
    "                \n",
    "            driver.find_element_by_xpath('//*[@id=\"triggerMenu\"]/div/div[1]/div/div/button[1]/i').click()\n",
    "                \n",
    "        elif c == 'Tving':\n",
    "            driver.find_element_by_xpath('//*[@id=\"triggerMenu\"]/div/div[1]/div/div/button[4]/i').click() \n",
    "            time.sleep(2)\n",
    "            \n",
    "            html = BeautifulSoup(driver.page_source, 'html.parser')\n",
    "            for name2 in html.select('div > div.title'):\n",
    "                tving_name.append(name2.text)\n",
    "                tot_list.append(name2.text)\n",
    "                \n",
    "            driver.find_element_by_xpath('//*[@id=\"triggerMenu\"]/div/div[1]/div/div/button[4]/i').click()\n",
    "\n",
    "dist = ['Netflix', 'Tving']\n",
    "dt = []\n",
    "netflix_list = {}\n",
    "tving_list = {}\n",
    "for i in range(1, 38):\n",
    "    driver.maximize_window()\n",
    "    driver.find_element_by_xpath(f'//*[@id=\"contents\"]/div[2]/div/div[{i}]/a/div[2]/div/div/div').click()\n",
    "    time.sleep(5)\n",
    "    \n",
    "    html = BeautifulSoup(driver.page_source, 'html.parser')\n",
    "    for d in html.select('#editorComment > p'):\n",
    "        dt.append(d.text)\n",
    "    dt[i-1] = dt[i-1][0:dt[i-1].index('차')]\n",
    "    \n",
    "    if i == 1:\n",
    "        click_contents(dist[0])\n",
    "        click_contents(dist[1])\n",
    "        netflix_list[dt[i-1]] = np.array(netflix_name)\n",
    "        tving_list[dt[i-1]] = np.array(tving_name)\n",
    "        time.sleep(3)\n",
    "        \n",
    "    elif i >= 2:\n",
    "        click_contents(dist[0])\n",
    "        click_contents(dist[1])\n",
    "        netflix_list[dt[i-1]] = np.array(netflix_name)\n",
    "        tving_list[dt[i-1]] = np.array(tving_name)\n",
    "        time.sleep(3)\n",
    "    \n",
    "    driver.find_element_by_xpath('//*[@id=\"header\"]/div/button[1]/i').click()\n",
    "    time.sleep(3)\n",
    "    print(f'크롤링 {i} 완료. 다음으로 진행 시작.') \n",
    "\n",
    "    if i % 11 == 0:\n",
    "        driver.find_element_by_tag_name('body').send_keys(Keys.PAGE_DOWN)\n",
    "        time.sleep(2)\n",
    "        \n",
    "    if i > 37:\n",
    "        break  \n",
    "\n",
    "print('크롤링 끝')\n",
    "\n",
    "for t in range(36, 0, -1):\n",
    "    netflix_list[dt[t]] = netflix_list[dt[t]][len(netflix_list[dt[t-1]]):]\n",
    "    tving_list[dt[t]] = tving_list[dt[t]][len(tving_list[dt[t-1]]):]"
   ]
  },
  {
   "cell_type": "code",
   "execution_count": null,
   "id": "d84a44c8",
   "metadata": {
    "id": "d84a44c8"
   },
   "outputs": [],
   "source": [
    "#크롤링 결과 확인\n",
    "print(netflix_list)\n",
    "print(tving_list)\n",
    "print(tot_list)\n",
    "\n",
    "#중복 제거\n",
    "print(set(tot_list))\n",
    "print(len(set(tot_list)))"
   ]
  },
  {
   "cell_type": "markdown",
   "id": "18841752",
   "metadata": {
    "id": "18841752"
   },
   "source": [
    "# 크롤링 결과 데이터 정제하기"
   ]
  },
  {
   "cell_type": "markdown",
   "id": "4b9d9ab1",
   "metadata": {
    "id": "4b9d9ab1"
   },
   "source": [
    "## 크롤링 결과 데이터 프레임으로 만들기"
   ]
  },
  {
   "cell_type": "code",
   "execution_count": null,
   "id": "d3741dc7",
   "metadata": {
    "id": "d3741dc7"
   },
   "outputs": [],
   "source": [
    "df = pd.DataFrame(columns=['Date', 'Netflix', 'Tving'])\n",
    "\n",
    "df['Date'] = dt\n",
    "df['Netflix'] = netflix_list.values()\n",
    "df['Tving'] = tving_list.values()\n",
    "df"
   ]
  },
  {
   "cell_type": "markdown",
   "id": "9a59c010",
   "metadata": {
    "id": "9a59c010"
   },
   "source": [
    "## 중복제거한 크롤링 컨텐츠명 정제하기"
   ]
  },
  {
   "cell_type": "code",
   "execution_count": null,
   "id": "e7b93123",
   "metadata": {
    "id": "e7b93123"
   },
   "outputs": [],
   "source": [
    "pd.DataFrame(set(tot_list)).to_csv('result_contents_for_crawling.csv', encoding = 'utf8', index = False)\n",
    "\n",
    "df3 = pd.read_csv('result_contents_for_crawling.csv', encoding = 'utf8')\n",
    "df3 = df3['0'].values\n",
    "df3 = list(df3)\n",
    "df3.remove('오버로드')\n",
    "df3.remove('슈퍼 미')\n",
    "df3.remove('진격의 거인 The Final Season')\n",
    "df3.remove('일상의 관계')\n",
    "m_nm = ['아이', '새콤달콤', '극한직업', '노바디', '소울', '1987', '크롤', '미나리', '헌트', '발신제한', '알라딘', '원더 우먼', \n",
    "            '인질', '담보', '런', '백두산', '작은 아씨들', '싱크홀', '차인표', '런치박스', '소리도 없이']\n",
    "d_nm = ['루카', '괴물', 'D.P.', '마우스', '런 온', '로스쿨']\n",
    "\n",
    "nm_list = []\n",
    "for m in m_nm: \n",
    "    df3 = list(df3)\n",
    "    df3.remove(m)\n",
    "    m = f'영화 {m}' \n",
    "    nm_list.append(m)\n",
    "    \n",
    "for d in d_nm:\n",
    "    df3 = list(df3)\n",
    "    df3.remove(d)\n",
    "    d = f'드라마 {d}' \n",
    "    nm_list.append(d)\n",
    "\n",
    "\n",
    "for i in range(len(df3)):\n",
    "        if '곡성' in df3[i]:\n",
    "            df3[i] = '영화 곡성'\n",
    "        elif '파트' in df3[i]:\n",
    "            df3[i] = '뤼팽'\n",
    "        elif '난노' in df3[i]:\n",
    "            df3[i] = '그녀의 이름은 난노'\n",
    "        elif '!' in df3[i]:\n",
    "            df3[i] = df3[i].replace('!', '')\n",
    "        elif ':' in df3[i]:\n",
    "            df3[i] = df3[i].replace(':', '')  \n",
    "\n",
    "\n",
    "print(df3)\n",
    "print(nm_list)\n",
    "print(len(df3))\n",
    "\n",
    "for l in nm_list:\n",
    "    df3 = list(df3)\n",
    "    df3.append(l)\n",
    "\n",
    "for i in range(len(df3)):\n",
    "    if 'D.P.' in df3[i]:\n",
    "        df3[i] = '드라마 DP'\n",
    "\n",
    "pd.DataFrame(df3).to_csv('processed_nm of contents.csv', encoding = 'utf8', index = False)"
   ]
  },
  {
   "cell_type": "markdown",
   "id": "aaae655c",
   "metadata": {
    "id": "aaae655c"
   },
   "source": [
    "# SNS 크롤링하기"
   ]
  },
  {
   "cell_type": "code",
   "execution_count": null,
   "id": "998a6247",
   "metadata": {
    "id": "998a6247"
   },
   "outputs": [],
   "source": [
    "driver = webdriver.Chrome('./chromedriver_win32/chromedriver.exe')\n",
    "url = 'https://www.instagram.com/'\n",
    "driver.get(url)\n",
    "time.sleep(4)\n",
    "\n",
    "ins_id = input('아이디를 입력하세요 : ')\n",
    "pw = input('비밀번호를 입력하세요 : ')\n",
    "\n",
    "driver.find_element_by_xpath('//*[@id=\"loginForm\"]/div/div[1]/div/label/input').send_keys(ins_id)\n",
    "driver.find_element_by_xpath('//*[@id=\"loginForm\"]/div/div[2]/div/label/input').send_keys(pw)\n",
    "driver.find_element_by_xpath('//*[@id=\"loginForm\"]/div/div[3]/button/div').click()\n",
    "time.sleep(3)\n",
    "\n",
    "driver.find_element_by_xpath('//*[@id=\"react-root\"]/section/main/div/div/div/section/div/button').click()\n",
    "time.sleep(3)\n",
    "\n",
    "try:\n",
    "    driver.find_element_by_xpath('/html/body/div[6]/div/div/div/div[3]/button[2]').click()\n",
    "    time.sleep(4)\n",
    "\n",
    "except:\n",
    "    driver.find_element_by_xpath('/html/body/div[5]/div/div/div/div[3]/button[2]').send_keys('\\n')\n",
    "    time.sleep(4)\n",
    "\n",
    "key_word = df3\n",
    "total_cnt = {}\n",
    "c = 0 \n",
    "for i, j in zip(key_word, range(len(key_word))):\n",
    "    c += 1\n",
    "    print(f'크롤링 중 {c}')\n",
    "    \n",
    "    driver.find_element_by_xpath('//*[@id=\"react-root\"]/section/nav/div[2]/div/div/div[2]/input').send_keys('#'+i)\n",
    "    time.sleep(4)\n",
    "    \n",
    "    driver.find_element_by_xpath('//*[@id=\"react-root\"]/section/nav/div[2]/div/div/div[2]/div[3]/div/div[2]/div/div[1]/a/div').click()\n",
    "    \n",
    "    html = BeautifulSoup(driver.page_source, 'html.parser')\n",
    "    try:\n",
    "        for cnt in html.select('main > header > div.WSpok > div > div:nth-of-type(2) > span > span'):   \n",
    "            if len(cnt.text.replace(',', \"\")) >= 4:\n",
    "                total_cnt[i] = int(cnt.text.replace(',', \"\"))\n",
    "                time.sleep(6)\n",
    "\n",
    "            elif len(cnt.text.replace(',', \"\")) < 4:\n",
    "                total_cnt[i] = int(cnt.text) \n",
    "                time.sleep(6) \n",
    "    \n",
    "    except:\n",
    "        for cnt in html.select('main > header > div.WSpok > div > div.qF0y9.Igw0E.IwRSH.eGOV_._4EzTm.a39_R > span > span'):\n",
    "            if len(cnt.text.replace(',', \"\")) >= 4:\n",
    "                total_cnt[i] = int(cnt.text.replace(',', \"\"))\n",
    "                time.sleep(6)\n",
    "            elif len(cnt.text.replace(',', \"\")) < 4:\n",
    "                total_cnt[i] = int(cnt.text) \n",
    "                time.sleep(6)  \n",
    "        \n",
    "    driver.find_element_by_xpath('//*[@id=\"react-root\"]/section/nav/div[2]/div/div/div[2]/input').send_keys(Keys.CONTROL, 'a')\n",
    "    time.sleep(5)\n",
    "    driver.find_element_by_xpath('//*[@id=\"react-root\"]/section/nav/div[2]/div/div/div[2]/input').send_keys(Keys.DELETE)\n",
    "    time.sleep(5)\n",
    "\n",
    "print(total_cnt)\n",
    "driver.close()"
   ]
  },
  {
   "cell_type": "markdown",
   "id": "95cb827d",
   "metadata": {
    "id": "95cb827d"
   },
   "source": [
    "## SNS 크롤링 결과 데이터 데이터 프레임으로 만들기"
   ]
  },
  {
   "cell_type": "code",
   "execution_count": null,
   "id": "cf85c324",
   "metadata": {
    "id": "cf85c324"
   },
   "outputs": [],
   "source": [
    "import pandas as pd\n",
    "k_nm = []\n",
    "v_nm = []\n",
    "for k, v in total_cnt.items():\n",
    "    k_nm.append(k)\n",
    "    v_nm.append(v)\n",
    "print(k_nm)\n",
    "print(v_nm)\n",
    "df = pd.DataFrame(columns = ['Name', 'Count'])\n",
    "df['Name'] = k_nm\n",
    "df['Count'] = v_nm\n",
    "df"
   ]
  },
  {
   "cell_type": "markdown",
   "id": "39427a58",
   "metadata": {
    "id": "39427a58"
   },
   "source": [
    "## 크롤링 제대로 안된 부분 다시 크롤링하고 정제하기"
   ]
  },
  {
   "cell_type": "code",
   "execution_count": null,
   "id": "83f36d35",
   "metadata": {
    "id": "83f36d35"
   },
   "outputs": [],
   "source": [
    "driver = webdriver.Chrome('./chromedriver_win32/chromedriver.exe')\n",
    "url = 'https://www.instagram.com/'\n",
    "driver.get(url)\n",
    "time.sleep(4)\n",
    "\n",
    "ins_id = input('아이디를 입력하세요 : ')\n",
    "pw = input('비밀번호를 입력하세요 : ')\n",
    "driver.find_element_by_xpath('//*[@id=\"loginForm\"]/div/div[1]/div/label/input').send_keys(ins_id)\n",
    "driver.find_element_by_xpath('//*[@id=\"loginForm\"]/div/div[2]/div/label/input').send_keys(pw)\n",
    "driver.find_element_by_xpath('//*[@id=\"loginForm\"]/div/div[3]/button/div').click()\n",
    "time.sleep(3)\n",
    "\n",
    "driver.find_element_by_xpath('//*[@id=\"react-root\"]/section/main/div/div/div/section/div/button').click()\n",
    "time.sleep(3)\n",
    "\n",
    "try:\n",
    "    driver.find_element_by_xpath('/html/body/div[6]/div/div/div/div[3]/button[2]').click()\n",
    "    time.sleep(4)\n",
    "\n",
    "except:\n",
    "    driver.find_element_by_xpath('/html/body/div[5]/div/div/div/div[3]/button[2]').send_keys('\\n')\n",
    "    time.sleep(4)\n",
    "df.to_csv('insta_count.csv', encoding = 'utf8', index = False)\n",
    "pd.set_option('max_rows', None)\n",
    "d = pd.read_csv('insta_count.csv', encoding = 'utf8')\n",
    "a = d[['Name', 'Count']][:95]\n",
    "b = d['Name'][94:].values\n",
    "key_word = b\n",
    "total_cnt1 = {}\n",
    "\n",
    "c = 0 \n",
    "for i, j in zip(key_word, range(1, len(key_word))):\n",
    "    c += 1\n",
    "    print(f'크롤링 중 {c}')\n",
    "    \n",
    "    driver.find_element_by_xpath('//*[@id=\"react-root\"]/section/nav/div[2]/div/div/div[2]/input').send_keys('#'+i)\n",
    "    time.sleep(4)\n",
    "    \n",
    "    driver.find_element_by_xpath('//*[@id=\"react-root\"]/section/nav/div[2]/div/div/div[2]/div[3]/div/div[2]/div/div[1]/a/div').click()\n",
    "    \n",
    "    html = BeautifulSoup(driver.page_source, 'html.parser')\n",
    "    try:\n",
    "        for cnt in html.select('main > header > div.WSpok > div > div:nth-child(2) > span > span'):  \n",
    "            if len(cnt.text.replace(',', \"\")) >= 4:\n",
    "                total_cnt1[i] = int(cnt.text.replace(',', \"\"))\n",
    "                time.sleep(6)\n",
    "                print(total_cnt1[i])\n",
    "\n",
    "            elif len(cnt.text.replace(',', \"\")) < 4:\n",
    "                total_cnt1[i-1] = int(cnt.text) \n",
    "                time.sleep(6)\n",
    "                print(total_cnt1[i])\n",
    "    \n",
    "    except:\n",
    "        for cnt in html.select('main > header > div.WSpok > div > div.qF0y9.Igw0E.IwRSH.eGOV_._4EzTm.a39_R > span > span'):\n",
    "            if len(cnt.text.replace(',', \"\")) >= 4:\n",
    "                total_cnt1[i] = int(cnt.text.replace(',', \"\"))\n",
    "                time.sleep(6)\n",
    "                print(total_cnt1[i])\n",
    "            elif len(cnt.text.replace(',', \"\")) < 4:\n",
    "                total_cnt1[i] = int(cnt.text) \n",
    "                time.sleep(6) \n",
    "                print(total_cnt1[i])\n",
    "        \n",
    "    driver.find_element_by_xpath('//*[@id=\"react-root\"]/section/nav/div[2]/div/div/div[2]/input').send_keys(Keys.CONTROL, 'a')\n",
    "    time.sleep(5)\n",
    "    driver.find_element_by_xpath('//*[@id=\"react-root\"]/section/nav/div[2]/div/div/div[2]/input').send_keys(Keys.DELETE)\n",
    "    time.sleep(5)\n",
    "\n",
    "print(total_cnt1)\n",
    "driver.close()"
   ]
  },
  {
   "cell_type": "code",
   "execution_count": null,
   "id": "5d88e3c6",
   "metadata": {
    "id": "5d88e3c6"
   },
   "outputs": [],
   "source": [
    "del total_cnt1['영화 담보']\n",
    "import pandas as pd\n",
    "k1_nm = []\n",
    "v1_nm = []\n",
    "for k1, v1 in total_cnt1.items():\n",
    "    k1_nm.append(k1)\n",
    "    v1_nm.append(v1)\n",
    "print(k1_nm)\n",
    "print(v1_nm)\n",
    "df1 = pd.DataFrame(columns = ['Name', 'Count'])\n",
    "df1['Name'] = k1_nm\n",
    "df1['Count'] = v1_nm\n",
    "df1"
   ]
  },
  {
   "cell_type": "code",
   "execution_count": null,
   "id": "1887723d",
   "metadata": {
    "id": "1887723d"
   },
   "outputs": [],
   "source": [
    "total = {}\n",
    "driver.find_element_by_xpath('//*[@id=\"react-root\"]/section/nav/div[2]/div/div/div[2]/input').send_keys('#드라마 로스쿨')\n",
    "time.sleep(4)\n",
    "\n",
    "driver.find_element_by_xpath('//*[@id=\"react-root\"]/section/nav/div[2]/div/div/div[2]/div[3]/div/div[2]/div/div[1]/a/div').click()\n",
    "\n",
    "html = BeautifulSoup(driver.page_source, 'html.parser')\n",
    "for cnt in html.select('div.WSpok > div > div.qF0y9.Igw0E.IwRSH.eGOV_._4EzTm.a39_R > span > span'):  \n",
    "    if len(cnt.text.replace(',', \"\")) >= 4:\n",
    "        total['드라마 로스쿨'] = int(cnt.text.replace(',', \"\"))\n",
    "        time.sleep(6)\n",
    "        print(total['드라마 로스쿨'])\n",
    "print(total)"
   ]
  },
  {
   "cell_type": "markdown",
   "id": "6999b17f",
   "metadata": {
    "id": "6999b17f"
   },
   "source": [
    "## 완벽하게 된 크롤링 결과를 데이터 프레임으로 만들어주고 컨텐츠명 정제하여 파일로 다시 저장하기"
   ]
  },
  {
   "cell_type": "code",
   "execution_count": null,
   "id": "0bf8e923",
   "metadata": {
    "id": "0bf8e923"
   },
   "outputs": [],
   "source": [
    "import pandas as pd\n",
    "knm = []\n",
    "vnm = []\n",
    "for n, m in total.items():\n",
    "    knm.append(n)\n",
    "    vnm.append(m)\n",
    "\n",
    "nm1 = pd.DataFrame(columns = ['Name', 'Count'])\n",
    "nm1['Name'] = knm\n",
    "nm1['Count'] = vnm\n",
    "print(nm1)\n",
    "\n",
    "new_df = pd.concat([a, df1, nm1], axis = 0)\n",
    "df_nm = new_df['Name'].values\n",
    "df_nm = list(df_nm)\n",
    "\n",
    "print(df_nm)\n",
    "\n",
    "for i in range(len(df_nm)):\n",
    "        if '곡성' in df_nm[i]:\n",
    "            df_nm[i] = '곡성'\n",
    "        elif '!' in df_nm[i]:\n",
    "            df_nm[i] = df_nm[i].replace('!', '')\n",
    "        elif ':' in df_nm[i]:\n",
    "            df_nm[i] = df_nm[i].replace(':', '')  \n",
    "        elif 'DP' in df_nm[i]:\n",
    "            df_nm[i] = 'DP'\n",
    "        elif ' ' in df_nm[i]:\n",
    "            df_nm[i]=df_nm[i].replace(\" \", \"\") \n",
    "        elif ',' in df_nm[i]:\n",
    "            df_nm[i] = df_nm[i].replace(',', '')\n",
    "                   \n",
    "for j in range(len(df_nm)):\n",
    "    if '영화' in df_nm[j]:\n",
    "        df_nm[j] = df_nm[j].strip('영화 ')\n",
    "    elif '드라' in df_nm[j]:\n",
    "        df_nm[j] = df_nm[j].strip('드라마 ')\n",
    "    elif '마우스' in df_nm[j]:\n",
    "        df_nm[j] = '마우스'\n",
    "    elif ' ' in df_nm[j]:\n",
    "            df_nm[j]=df_nm[j].replace(\" \", \"\")\n",
    "    elif ',' in df_nm[j]:\n",
    "            df_nm[j] = df_nm[j].replace(',', '')\n",
    "            \n",
    "new_df['Name'] = df_nm        \n",
    "new_df.set_index(['Name'], inplace=True)\n",
    "\n",
    "print(new_df)\n",
    "\n",
    "new_df.to_csv('instagram crawling.csv', encoding='utf8')\n",
    "\n",
    "pd_df = pd.read_csv('instagram crawling.csv', encoding='utf8')\n",
    "\n",
    "for j in range(len(pd_df)):\n",
    "    if '언제나그리고영원히' in pd_df['Name'][j]:\n",
    "            pd_df['Name'][j] = \"내가사랑했던모든남자들에게\"\n",
    "    elif '시지프스' in pd_df['Name'][j]:\n",
    "            pd_df['Name'][j] = \"시지프스\"        \n",
    "    elif '우스' in pd_df['Name'][j]:\n",
    "            pd_df['Name'][j] = '마우스'\n",
    "pd_df.drop(axis=1, columns = 'Unnamed: 0', inplace=True)\n",
    "pd_df"
   ]
  },
  {
   "cell_type": "code",
   "execution_count": null,
   "id": "166841d9",
   "metadata": {
    "id": "166841d9"
   },
   "outputs": [],
   "source": [
    "pd_df.to_csv('instagram crawling.csv', encoding='utf8')"
   ]
  }
 ],
 "metadata": {
  "colab": {
   "name": "7조토이프로젝트_엔터테인먼트.ipynb",
   "provenance": []
  },
  "kernelspec": {
   "display_name": "Python 3",
   "language": "python",
   "name": "python3"
  },
  "language_info": {
   "codemirror_mode": {
    "name": "ipython",
    "version": 3
   },
   "file_extension": ".py",
   "mimetype": "text/x-python",
   "name": "python",
   "nbconvert_exporter": "python",
   "pygments_lexer": "ipython3",
   "version": "3.8.8"
  },
  "toc": {
   "base_numbering": 1,
   "nav_menu": {},
   "number_sections": true,
   "sideBar": true,
   "skip_h1_title": false,
   "title_cell": "Table of Contents",
   "title_sidebar": "Contents",
   "toc_cell": false,
   "toc_position": {},
   "toc_section_display": true,
   "toc_window_display": true
  },
  "varInspector": {
   "cols": {
    "lenName": 16,
    "lenType": 16,
    "lenVar": 40
   },
   "kernels_config": {
    "python": {
     "delete_cmd_postfix": "",
     "delete_cmd_prefix": "del ",
     "library": "var_list.py",
     "varRefreshCmd": "print(var_dic_list())"
    },
    "r": {
     "delete_cmd_postfix": ") ",
     "delete_cmd_prefix": "rm(",
     "library": "var_list.r",
     "varRefreshCmd": "cat(var_dic_list()) "
    }
   },
   "types_to_exclude": [
    "module",
    "function",
    "builtin_function_or_method",
    "instance",
    "_Feature"
   ],
   "window_display": false
  }
 },
 "nbformat": 4,
 "nbformat_minor": 5
}
